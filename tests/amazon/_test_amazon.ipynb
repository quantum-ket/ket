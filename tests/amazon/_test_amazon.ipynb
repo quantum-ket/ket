{
 "cells": [
  {
   "cell_type": "code",
   "execution_count": 1,
   "id": "24fb20d0",
   "metadata": {},
   "outputs": [
    {
     "data": {
      "text/plain": [
       "['Ket v0.9.0b3',\n",
       " 'libket v0.6.0 [rustc 1.82.0 (f6e511eec 2024-10-15) x86_64-unknown-linux-gnu]',\n",
       " 'kbw v0.4.0 [rustc 1.82.0 (f6e511eec 2024-10-15) x86_64-unknown-linux-gnu]']"
      ]
     },
     "execution_count": 1,
     "metadata": {},
     "output_type": "execute_result"
    }
   ],
   "source": [
    "from functools import partial\n",
    "from math import pi, sqrt\n",
    "from plotly import express as px\n",
    "\n",
    "\n",
    "from ket import *\n",
    "from ket import ket_version\n",
    "\n",
    "ket_version()"
   ]
  },
  {
   "cell_type": "code",
   "execution_count": 2,
   "id": "eb01f52e",
   "metadata": {},
   "outputs": [],
   "source": [
    "from ket.amazon import AmazonBraket"
   ]
  },
  {
   "cell_type": "markdown",
   "id": "67b9129b",
   "metadata": {},
   "source": [
    "## Testes"
   ]
  },
  {
   "cell_type": "code",
   "execution_count": 3,
   "id": "5e4349f1",
   "metadata": {},
   "outputs": [
    {
     "name": "stdout",
     "output_type": "stream",
     "text": [
      "Iniciando criação do AmazonBraket...\n",
      "AmazonBraket criado com sucesso.\n"
     ]
    }
   ],
   "source": [
    "print(\"Iniciando criação do AmazonBraket...\")\n",
    "try:\n",
    "    braket = AmazonBraket(num_qubits=2)\n",
    "    print(\"AmazonBraket criado com sucesso.\")\n",
    "except Exception as e:\n",
    "    print(f\"Erro ao criar AmazonBraket: {e}\")"
   ]
  },
  {
   "cell_type": "code",
   "execution_count": 4,
   "id": "8e0907d3",
   "metadata": {},
   "outputs": [
    {
     "name": "stdout",
     "output_type": "stream",
     "text": [
      "Iniciando braket.connect()...\n",
      "braket.connect() executado com sucesso.\n"
     ]
    }
   ],
   "source": [
    "print(\"Iniciando braket.connect()...\")\n",
    "try:\n",
    "    ket_configuration = braket.connect()\n",
    "    print(\"braket.connect() executado com sucesso.\")\n",
    "except Exception as e:\n",
    "    print(f\"Erro ao executar braket.connect(): {e}\")"
   ]
  },
  {
   "cell_type": "code",
   "execution_count": 5,
   "id": "29950dd1",
   "metadata": {},
   "outputs": [
    {
     "name": "stdout",
     "output_type": "stream",
     "text": [
      "Iniciando Process(ket_configuration)...\n",
      "Process criado com sucesso.\n"
     ]
    }
   ],
   "source": [
    "print(\"Iniciando Process(ket_configuration)...\")\n",
    "try:\n",
    "    # p = Process(ket_configuration)\n",
    "    p = Process(braket)\n",
    "    print(\"Process criado com sucesso.\")\n",
    "except Exception as e:\n",
    "    print(f\"Erro ao criar Process: {e}\")"
   ]
  },
  {
   "cell_type": "markdown",
   "id": "22be2ce9",
   "metadata": {},
   "source": [
    "## Final"
   ]
  },
  {
   "cell_type": "code",
   "execution_count": 6,
   "id": "ce81f6ad",
   "metadata": {},
   "outputs": [
    {
     "ename": "CLibError",
     "evalue": "Libket: The provided data does not match the expected number of results",
     "output_type": "error",
     "traceback": [
      "\u001b[0;31m---------------------------------------------------------------------------\u001b[0m",
      "\u001b[0;31mCLibError\u001b[0m                                 Traceback (most recent call last)",
      "Cell \u001b[0;32mIn[6], line 10\u001b[0m\n\u001b[1;32m      7\u001b[0m H(qubits[\u001b[38;5;241m0\u001b[39m])\n\u001b[1;32m      8\u001b[0m CNOT(qubits[\u001b[38;5;241m0\u001b[39m], qubits[\u001b[38;5;241m1\u001b[39m])\n\u001b[0;32m---> 10\u001b[0m \u001b[43msample\u001b[49m\u001b[43m(\u001b[49m\u001b[43mqubits\u001b[49m\u001b[43m)\u001b[49m\n",
      "File \u001b[0;32m~/code/ket/src/ket/operations.py:399\u001b[0m, in \u001b[0;36msample\u001b[0;34m(qubits, shots)\u001b[0m\n\u001b[1;32m    396\u001b[0m \u001b[38;5;28;01mif\u001b[39;00m \u001b[38;5;129;01mnot\u001b[39;00m \u001b[38;5;28misinstance\u001b[39m(qubits, Quant):\n\u001b[1;32m    397\u001b[0m     qubits \u001b[38;5;241m=\u001b[39m reduce(add, qubits)\n\u001b[0;32m--> 399\u001b[0m \u001b[38;5;28;01mreturn\u001b[39;00m \u001b[43mSamples\u001b[49m\u001b[43m(\u001b[49m\u001b[43mqubits\u001b[49m\u001b[43m,\u001b[49m\u001b[43m \u001b[49m\u001b[38;5;28;43mint\u001b[39;49m\u001b[43m(\u001b[49m\u001b[43mshots\u001b[49m\u001b[43m)\u001b[49m\u001b[43m)\u001b[49m\n",
      "File \u001b[0;32m~/code/ket/src/ket/base.py:594\u001b[0m, in \u001b[0;36mSamples.__init__\u001b[0;34m(self, qubits, shots)\u001b[0m\n\u001b[1;32m    592\u001b[0m \u001b[38;5;28mself\u001b[39m\u001b[38;5;241m.\u001b[39mqubits \u001b[38;5;241m=\u001b[39m qubits\n\u001b[1;32m    593\u001b[0m \u001b[38;5;28mself\u001b[39m\u001b[38;5;241m.\u001b[39mprocess \u001b[38;5;241m=\u001b[39m qubits\u001b[38;5;241m.\u001b[39mprocess\n\u001b[0;32m--> 594\u001b[0m \u001b[38;5;28mself\u001b[39m\u001b[38;5;241m.\u001b[39mindex \u001b[38;5;241m=\u001b[39m \u001b[38;5;28;43mself\u001b[39;49m\u001b[38;5;241;43m.\u001b[39;49m\u001b[43mprocess\u001b[49m\u001b[38;5;241;43m.\u001b[39;49m\u001b[43msample\u001b[49m\u001b[43m(\u001b[49m\n\u001b[1;32m    595\u001b[0m \u001b[43m    \u001b[49m\u001b[43m(\u001b[49m\u001b[43mc_size_t\u001b[49m\u001b[43m \u001b[49m\u001b[38;5;241;43m*\u001b[39;49m\u001b[43m \u001b[49m\u001b[38;5;28;43mlen\u001b[39;49m\u001b[43m(\u001b[49m\u001b[43mqubits\u001b[49m\u001b[38;5;241;43m.\u001b[39;49m\u001b[43mqubits\u001b[49m\u001b[43m)\u001b[49m\u001b[43m)\u001b[49m\u001b[43m(\u001b[49m\u001b[38;5;241;43m*\u001b[39;49m\u001b[43mqubits\u001b[49m\u001b[38;5;241;43m.\u001b[39;49m\u001b[43mqubits\u001b[49m\u001b[43m)\u001b[49m\u001b[43m,\u001b[49m\u001b[43m \u001b[49m\u001b[38;5;28;43mlen\u001b[39;49m\u001b[43m(\u001b[49m\u001b[43mqubits\u001b[49m\u001b[38;5;241;43m.\u001b[39;49m\u001b[43mqubits\u001b[49m\u001b[43m)\u001b[49m\u001b[43m,\u001b[49m\u001b[43m \u001b[49m\u001b[43mshots\u001b[49m\n\u001b[1;32m    596\u001b[0m \u001b[43m\u001b[49m\u001b[43m)\u001b[49m\u001b[38;5;241m.\u001b[39mvalue\n\u001b[1;32m    597\u001b[0m \u001b[38;5;28mself\u001b[39m\u001b[38;5;241m.\u001b[39m_value \u001b[38;5;241m=\u001b[39m \u001b[38;5;28;01mNone\u001b[39;00m\n\u001b[1;32m    598\u001b[0m \u001b[38;5;28mself\u001b[39m\u001b[38;5;241m.\u001b[39mshots \u001b[38;5;241m=\u001b[39m shots\n",
      "File \u001b[0;32m~/code/ket/src/ket/clib/libket.py:189\u001b[0m, in \u001b[0;36mProcess.__getattr__.<locals>.<lambda>\u001b[0;34m(*args)\u001b[0m\n\u001b[1;32m    188\u001b[0m \u001b[38;5;28;01mdef\u001b[39;00m\u001b[38;5;250m \u001b[39m\u001b[38;5;21m__getattr__\u001b[39m(\u001b[38;5;28mself\u001b[39m, name: \u001b[38;5;28mstr\u001b[39m):\n\u001b[0;32m--> 189\u001b[0m     \u001b[38;5;28;01mreturn\u001b[39;00m \u001b[38;5;28;01mlambda\u001b[39;00m \u001b[38;5;241m*\u001b[39margs: \u001b[43mAPI\u001b[49m\u001b[43m[\u001b[49m\u001b[38;5;124;43m\"\u001b[39;49m\u001b[38;5;124;43mket_process_\u001b[39;49m\u001b[38;5;124;43m\"\u001b[39;49m\u001b[43m \u001b[49m\u001b[38;5;241;43m+\u001b[39;49m\u001b[43m \u001b[49m\u001b[43mname\u001b[49m\u001b[43m]\u001b[49m\u001b[43m(\u001b[49m\u001b[38;5;28;43mself\u001b[39;49m\u001b[43m,\u001b[49m\u001b[43m \u001b[49m\u001b[38;5;241;43m*\u001b[39;49m\u001b[43margs\u001b[49m\u001b[43m)\u001b[49m\n",
      "File \u001b[0;32m~/code/ket/src/ket/clib/wrapper.py:65\u001b[0m, in \u001b[0;36mAPIWrapper.__call__\u001b[0;34m(self, *args)\u001b[0m\n\u001b[1;32m     62\u001b[0m         error_message_buffer \u001b[38;5;241m=\u001b[39m (c_uint8 \u001b[38;5;241m*\u001b[39m error_msg_buffer_size)()\n\u001b[1;32m     64\u001b[0m     error_msg \u001b[38;5;241m=\u001b[39m \u001b[38;5;28mbytearray\u001b[39m(error_message_buffer[: write_size\u001b[38;5;241m.\u001b[39mvalue])\u001b[38;5;241m.\u001b[39mdecode()\n\u001b[0;32m---> 65\u001b[0m     \u001b[38;5;28;01mraise\u001b[39;00m CLibError(\u001b[38;5;124mf\u001b[39m\u001b[38;5;124m\"\u001b[39m\u001b[38;5;132;01m{\u001b[39;00m\u001b[38;5;28mself\u001b[39m\u001b[38;5;241m.\u001b[39mlib_name\u001b[38;5;132;01m}\u001b[39;00m\u001b[38;5;124m: \u001b[39m\u001b[38;5;132;01m{\u001b[39;00merror_msg\u001b[38;5;132;01m}\u001b[39;00m\u001b[38;5;124m\"\u001b[39m, error_code)\n\u001b[1;32m     66\u001b[0m \u001b[38;5;28;01mif\u001b[39;00m \u001b[38;5;28mlen\u001b[39m(out) \u001b[38;5;241m==\u001b[39m \u001b[38;5;241m1\u001b[39m:\n\u001b[1;32m     67\u001b[0m     \u001b[38;5;28;01mreturn\u001b[39;00m out[\u001b[38;5;241m0\u001b[39m]\n",
      "\u001b[0;31mCLibError\u001b[0m: Libket: The provided data does not match the expected number of results"
     ]
    }
   ],
   "source": [
    "braket = AmazonBraket(num_qubits=2)\n",
    "\n",
    "p = Process(braket)\n",
    "\n",
    "qubits = p.alloc(2)\n",
    "\n",
    "H(qubits[0])\n",
    "CNOT(qubits[0], qubits[1])\n",
    "\n",
    "sample(qubits)"
   ]
  },
  {
   "cell_type": "code",
   "execution_count": null,
   "id": "bc0fabcc",
   "metadata": {},
   "outputs": [],
   "source": [
    "# from ket.ibm import IBMDevice\n",
    "# from qiskit_ibm_runtime import QiskitRuntimeService\n",
    "\n",
    "# service = QiskitRuntimeService(\n",
    "#     channel='ibm_quantum',\n",
    "#     instance='ibm-q/open/main',\n",
    "#     token='YOUR_TOKEN'\n",
    "# )\n",
    "\n",
    "# # Will automatically use the least busy backend\n",
    "# backend = service.least_busy()\n",
    "\n",
    "# # Will use the specified backend\n",
    "# # backend = service.backend('ibm_brisbane')\n",
    "\n",
    "# # Create an instance of the IBM quantum device with the choosen backend\n",
    "# device = IBMDevice(backend)"
   ]
  }
 ],
 "metadata": {
  "kernelspec": {
   "display_name": "venv",
   "language": "python",
   "name": "python3"
  },
  "language_info": {
   "codemirror_mode": {
    "name": "ipython",
    "version": 3
   },
   "file_extension": ".py",
   "mimetype": "text/x-python",
   "name": "python",
   "nbconvert_exporter": "python",
   "pygments_lexer": "ipython3",
   "version": "3.12.3"
  }
 },
 "nbformat": 4,
 "nbformat_minor": 5
}
