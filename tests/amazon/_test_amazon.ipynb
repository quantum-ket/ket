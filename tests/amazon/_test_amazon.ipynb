{
 "cells": [
  {
   "cell_type": "code",
   "execution_count": 1,
   "id": "24fb20d0",
   "metadata": {},
   "outputs": [
    {
     "data": {
      "text/plain": [
       "['Ket v0.9.0b3',\n",
       " 'libket v0.6.0 [rustc 1.82.0 (f6e511eec 2024-10-15) x86_64-unknown-linux-gnu]',\n",
       " 'kbw v0.4.0 [rustc 1.82.0 (f6e511eec 2024-10-15) x86_64-unknown-linux-gnu]']"
      ]
     },
     "execution_count": 1,
     "metadata": {},
     "output_type": "execute_result"
    }
   ],
   "source": [
    "from functools import partial\n",
    "from math import pi, sqrt\n",
    "from plotly import express as px\n",
    "\n",
    "\n",
    "from ket import *\n",
    "from ket import ket_version\n",
    "\n",
    "ket_version()"
   ]
  },
  {
   "cell_type": "code",
   "execution_count": 2,
   "id": "eb01f52e",
   "metadata": {},
   "outputs": [],
   "source": [
    "from ket.amazon import AmazonBraket"
   ]
  },
  {
   "cell_type": "markdown",
   "id": "67b9129b",
   "metadata": {},
   "source": [
    "## Testes"
   ]
  },
  {
   "cell_type": "code",
   "execution_count": 3,
   "id": "5e4349f1",
   "metadata": {},
   "outputs": [
    {
     "name": "stdout",
     "output_type": "stream",
     "text": [
      "Iniciando criação do AmazonBraket...\n",
      "AmazonBraket criado com sucesso.\n"
     ]
    }
   ],
   "source": [
    "print(\"Iniciando criação do AmazonBraket...\")\n",
    "try:\n",
    "    braket = AmazonBraket(num_qubits=2)\n",
    "    print(\"AmazonBraket criado com sucesso.\")\n",
    "except Exception as e:\n",
    "    print(f\"Erro ao criar AmazonBraket: {e}\")"
   ]
  },
  {
   "cell_type": "code",
   "execution_count": 4,
   "id": "8e0907d3",
   "metadata": {},
   "outputs": [
    {
     "name": "stdout",
     "output_type": "stream",
     "text": [
      "Iniciando braket.connect()...\n",
      "braket.connect() executado com sucesso.\n"
     ]
    }
   ],
   "source": [
    "print(\"Iniciando braket.connect()...\")\n",
    "try:\n",
    "    ket_configuration = braket.connect()\n",
    "    print(\"braket.connect() executado com sucesso.\")\n",
    "except Exception as e:\n",
    "    print(f\"Erro ao executar braket.connect(): {e}\")"
   ]
  },
  {
   "cell_type": "code",
   "execution_count": 5,
   "id": "29950dd1",
   "metadata": {},
   "outputs": [
    {
     "name": "stdout",
     "output_type": "stream",
     "text": [
      "Iniciando Process(ket_configuration)...\n",
      "Process criado com sucesso.\n"
     ]
    }
   ],
   "source": [
    "print(\"Iniciando Process(ket_configuration)...\")\n",
    "try:\n",
    "    # p = Process(ket_configuration)\n",
    "    p = Process(braket)\n",
    "    print(\"Process criado com sucesso.\")\n",
    "except Exception as e:\n",
    "    print(f\"Erro ao criar Process: {e}\")"
   ]
  },
  {
   "cell_type": "markdown",
   "id": "22be2ce9",
   "metadata": {},
   "source": [
    "## Final"
   ]
  },
  {
   "cell_type": "code",
   "execution_count": null,
   "id": "ce81f6ad",
   "metadata": {},
   "outputs": [
    {
     "ename": "",
     "evalue": "",
     "output_type": "error",
     "traceback": [
      "\u001b[1;31mThe Kernel crashed while executing code in the current cell or a previous cell. \n",
      "\u001b[1;31mPlease review the code in the cell(s) to identify a possible cause of the failure. \n",
      "\u001b[1;31mClick <a href='https://aka.ms/vscodeJupyterKernelCrash'>here</a> for more info. \n",
      "\u001b[1;31mView Jupyter <a href='command:jupyter.viewOutput'>log</a> for further details."
     ]
    }
   ],
   "source": [
    "braket = AmazonBraket(num_qubits=2)\n",
    "\n",
    "p = Process(braket)\n",
    "\n",
    "qubits = p.alloc(2)\n",
    "\n",
    "H(qubits[0])\n",
    "# CNOT(qubits[0], qubits[1])\n",
    "\n",
    "sample(qubits, shots=2048).get()"
   ]
  },
  {
   "cell_type": "code",
   "execution_count": 7,
   "id": "9c0f2b16",
   "metadata": {},
   "outputs": [
    {
     "data": {
      "text/plain": [
       "{2: 1055, 0: 993}"
      ]
     },
     "execution_count": 7,
     "metadata": {},
     "output_type": "execute_result"
    }
   ],
   "source": [
    "# braket = AmazonBraket(num_qubits=2)\n",
    "\n",
    "p = Process()\n",
    "\n",
    "qubits = p.alloc(2)\n",
    "\n",
    "H(qubits[0])\n",
    "# CNOT(qubits[0], qubits[1])\n",
    "\n",
    "sample(qubits, shots=2048).get()"
   ]
  },
  {
   "cell_type": "code",
   "execution_count": 8,
   "id": "bc0fabcc",
   "metadata": {},
   "outputs": [],
   "source": [
    "# from ket.ibm import IBMDevice\n",
    "# from qiskit_ibm_runtime import QiskitRuntimeService\n",
    "\n",
    "# service = QiskitRuntimeService(\n",
    "#     channel='ibm_quantum',\n",
    "#     instance='ibm-q/open/main',\n",
    "#     token='YOUR_TOKEN'\n",
    "# )\n",
    "\n",
    "# # Will automatically use the least busy backend\n",
    "# backend = service.least_busy()\n",
    "\n",
    "# # Will use the specified backend\n",
    "# # backend = service.backend('ibm_brisbane')\n",
    "\n",
    "# # Create an instance of the IBM quantum device with the choosen backend\n",
    "# device = IBMDevice(backend)"
   ]
  }
 ],
 "metadata": {
  "kernelspec": {
   "display_name": "venv",
   "language": "python",
   "name": "python3"
  },
  "language_info": {
   "codemirror_mode": {
    "name": "ipython",
    "version": 3
   },
   "file_extension": ".py",
   "mimetype": "text/x-python",
   "name": "python",
   "nbconvert_exporter": "python",
   "pygments_lexer": "ipython3",
   "version": "3.12.3"
  }
 },
 "nbformat": 4,
 "nbformat_minor": 5
}
